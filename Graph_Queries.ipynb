{
 "cells": [
  {
   "cell_type": "code",
   "execution_count": 2,
   "id": "6b6c8344",
   "metadata": {},
   "outputs": [],
   "source": [
    "import pandas as pd\n",
    "import numpy as np\n",
    "df1 = pd.read_csv('Customer/CustomerAddressDetails.csv')\n",
    "df2 = pd.read_csv('Customer/CustomerDetails.csv')\n",
    "df3 = pd.read_csv('Customer/CustomerInterest.csv')\n",
    "df4 = pd.read_csv('Insurance/CustomerInsurancePolicyFeature.csv')\n",
    "df5 = pd.read_csv('Insurance/CustomerInsurancePolicyDetails.csv')\n",
    "df6 = pd.read_csv('Insurance/CustomerInsurancedetails.csv')\n",
    "df7 = pd.read_csv('Insurance/CustomerInsuranceAdditionalDetail.csv')\n",
    "df8 = pd.read_csv('Customer/CustomerFamilyMember.csv') \n",
    "dfpolicy = pd.read_csv('Insurance/InsuranceVendorPolicyMaster.csv')\n",
    "dfupi = pd.read_csv('UPITransactionDetails.csv' , low_memory=False)\n",
    "dfpay = pd.read_csv('TvamPaymentResponseDetails.csv' , low_memory=False)\n",
    "dfd = pd.read_csv('ECTvamDoctorConsultation.csv')\n",
    "dfc0 = pd.read_csv('Cluster/Cluster0.csv')\n",
    "dfbnk = pd.read_csv('Loan/tvamBLBussinessAndLoanDetails.csv')\n",
    "dfq = pd.read_csv('QuestionResponse.csv')\n",
    "\n",
    "#Renaming Fields\n",
    "df6 = df6.rename(columns={'CustRefId':'CustRefID'})\n",
    "df4 = df4.rename(columns={'ID':'PolicyID'})\n",
    "dfupi = dfupi.rename(columns={'TvamCustRefid':'CustRefID'})\n",
    "dfpay = dfpay.rename(columns={'TvamCustRefId':'CustRefID'})\n",
    "dfc0 = dfc0.rename(columns={'customer':'CustRefID'})\n",
    "dfbnk = dfbnk.rename(columns={'TvamCustomerId':'CustRefID'})\n",
    "dfq=dfq.rename(columns={'CustomerId':'CustRefID'})"
   ]
  },
  {
   "cell_type": "code",
   "execution_count": 13,
   "id": "dcac57b6",
   "metadata": {},
   "outputs": [
    {
     "name": "stdout",
     "output_type": "stream",
     "text": [
      "|||df1|||\n",
      "Index(['AddRefID', 'CustRefID', 'AddressType', 'City', 'State', 'Country',\n",
      "       'PinCode', 'District', 'Taluk', 'Lat', 'Lng', 'CreatedDate',\n",
      "       'UpdateDate', 'LandMark'],\n",
      "      dtype='object')\n",
      "|||df2|||\n",
      "Index(['CustRefID', 'LangType', 'Gender', 'CreatedDate', 'UpdateDate', 'DOB',\n",
      "       'IsInterestOpted'],\n",
      "      dtype='object')\n",
      "|||df3|||\n",
      "Index(['CustRefID', 'InterestCode', 'DisplayText', 'Priority', 'CreatedDate'], dtype='object')\n",
      "|||df4|||\n",
      "Index(['PolicyID', 'FeatureId', 'Features', 'Locale', 'CreatedDate'], dtype='object')\n",
      "|||df5|||\n",
      "Index(['InsuranceID', 'PolicyStatus', 'PolicyType', 'CoverType', 'CreatedDate',\n",
      "       'PolicyID', 'CustRefID', 'PolicyCreationDate', 'PolicyModifyDate',\n",
      "       'PolicyFor', 'PolicyCommencementDt', 'PolicyMaturityDt',\n",
      "       'PaymentRefNo'],\n",
      "      dtype='object')\n",
      "|||df6|||\n",
      "Index(['CustRefID', 'InsuranceID', 'DOB', 'Gender', 'CreatedDate',\n",
      "       'DeclarationID', 'PolicyType'],\n",
      "      dtype='object')\n",
      "|||df7|||\n",
      "Index(['InsuranceID', 'PinCode', 'District', 'State', 'CreatedDate'], dtype='object')\n",
      "|||df8|||\n",
      "Index(['MemberID', 'CustRefID', 'Gender', 'DOB', 'RelationShipType',\n",
      "       'CreatedDate', 'UpdateDate'],\n",
      "      dtype='object')\n",
      "|||dfpolicy|||\n",
      "Index(['VendorID', 'InsuranceType', 'VendorCode', 'CoverType', 'PolicyID',\n",
      "       'PolicyName', 'SumInsured', 'FeatureId', 'AmountPerMember',\n",
      "       'PremiumAmount', 'MaxMembers', 'ChildrenMinAge', 'ChildrenMaxAge',\n",
      "       'PolicyTenureType', 'PolicyTenureValue', 'CreatedDate', 'PolicyRegion',\n",
      "       'MinMembers', 'ProductCode', 'AllowedRelationships',\n",
      "       'AllowedCombinations', 'AdultMaxAge', 'AdultMinAge'],\n",
      "      dtype='object')\n",
      "|||dfupi|||\n",
      "Index(['TransactionId', 'CustRefID', 'TransactionDescription', 'Amount',\n",
      "       'Currency', 'PaymentType', 'TransactionType', 'PayeePaymentAddress',\n",
      "       'PayeeIFSC', 'MerchantCatCode', 'PayerIFSC', 'SubMerchantID',\n",
      "       'TransactionAuthDate', 'Status', 'PaymentTypeCategory', 'Createddate',\n",
      "       'PaymentPurpose', 'UpdatedDateTime', 'IsCollectApproved'],\n",
      "      dtype='object')\n",
      "|||dfpay|||\n",
      "Index(['PaymentId', 'TvamCustId', 'PaymentRefID', 'BankName', 'Amount',\n",
      "       'PGMode', 'Status', 'TxnDateTime', 'ServiceName', 'CreatedDate',\n",
      "       ...\n",
      "       'Unnamed: 1014', 'Unnamed: 1015', 'Unnamed: 1016', 'Unnamed: 1017',\n",
      "       'Unnamed: 1018', 'Unnamed: 1019', 'Unnamed: 1020', 'Unnamed: 1021',\n",
      "       'Unnamed: 1022', 'Unnamed: 1023'],\n",
      "      dtype='object', length=1024)\n",
      "|||dfd|||\n",
      "Index(['TvamRefNo', 'TvamCustID', 'Customer_id', 'ConsultationId', 'DoctorId',\n",
      "       'Type', 'UserDob', 'UserGender', 'Status', 'PolicyNum',\n",
      "       'IsPrimaryCustomer', 'Createddate', 'Updatetdate', 'ConsultationDate',\n",
      "       'FamilyMemberId', 'PaymentStatus', 'StatusMessage',\n",
      "       'TvamConsultationId', 'ConsultationFee', 'Remarks', 'TvamAdvance',\n",
      "       'TvamAdvanceUsed', 'PaymentrefNo'],\n",
      "      dtype='object')\n",
      "|||dfbnk|||\n",
      "Index(['LoanApplicationId', 'LoanRefno', 'LoanPurposeId', 'LoanAmount',\n",
      "       'BussinessTypeId', 'CurrentBussinessSinceMonth',\n",
      "       'CurrentBussinessSinceYear', 'TotalBussinessWorkExperienceMonth',\n",
      "       'TotalBussinessWorkExperienceYear', 'CreatedDate', 'UpdateDate',\n",
      "       'CustRefID', 'MonthlySales'],\n",
      "      dtype='object')\n",
      "|||dfq|||\n",
      "Index(['CustRefID', 'Education', 'Profession', 'BusinessCategory',\n",
      "       'MaritalStatus', 'Children', 'SchoolGoingKids', 'GeoTagging',\n",
      "       'Dependent', 'NoOfSeniorCitizen', 'Anniversary', 'Vehicle', 'Income',\n",
      "       'CreatedDate', 'UpdatedDateTime'],\n",
      "      dtype='object')\n",
      "|||dfc0|||\n",
      "Index(['CustRefID', 'Gender', 'LangType', 'Age', 'Cluster'], dtype='object')\n"
     ]
    }
   ],
   "source": [
    "#Checking columns name of each table in one go\n",
    "L = [df1,df2,df3,df4,df5,df6,df7,df8,dfpolicy,dfupi,dfpay,dfd,dfbnk,dfq,dfc0]\n",
    "Str = [\"df1\",\"df2\",\"df3\",\"df4\",\"df5\",\"df6\",\"df7\",\"df8\",\"dfpolicy\",\"dfupi\",\"dfpay\",\"dfd\",\"dfbnk\",\"dfq\",\"dfc0\"]\n",
    "\n",
    "for i in range(len(L)):\n",
    "    print('|||' + Str[i] + '|||')\n",
    "    print(L[i].columns)"
   ]
  },
  {
   "cell_type": "code",
   "execution_count": 6,
   "id": "6a027094",
   "metadata": {},
   "outputs": [
    {
     "data": {
      "text/plain": [
       "30000"
      ]
     },
     "execution_count": 6,
     "metadata": {},
     "output_type": "execute_result"
    }
   ],
   "source": [
    "#query3\n",
    "#S1=>(@P Person:* {NodeFor=\"Customer\"});RETURN COUNT(*) AS Total_Registrations\n",
    "\n",
    "df2.CustRefID.nunique()"
   ]
  },
  {
   "cell_type": "code",
   "execution_count": 9,
   "id": "edd71379",
   "metadata": {},
   "outputs": [
    {
     "data": {
      "text/plain": [
       "21022"
      ]
     },
     "execution_count": 9,
     "metadata": {},
     "output_type": "execute_result"
    }
   ],
   "source": [
    "#query4\n",
    "#S1=>(@P Person:* {NodeFor=\"Family_Member\"});RETURN COUNT(*) AS Total_Registrations\n",
    "\n",
    "df8.MemberID.nunique()\n",
    "#df8.count()"
   ]
  },
  {
   "cell_type": "code",
   "execution_count": 14,
   "id": "2556a830",
   "metadata": {},
   "outputs": [
    {
     "data": {
      "text/plain": [
       "51022"
      ]
     },
     "execution_count": 14,
     "metadata": {},
     "output_type": "execute_result"
    }
   ],
   "source": [
    "#query2\n",
    "#S1=>(@P Person:*);RETURN COUNT(*) AS Total_Users\n",
    "\n",
    "df2.CustRefID.nunique() + df8.MemberID.nunique()"
   ]
  },
  {
   "cell_type": "code",
   "execution_count": 31,
   "id": "3052dc31",
   "metadata": {},
   "outputs": [
    {
     "data": {
      "text/plain": [
       "9874"
      ]
     },
     "execution_count": 31,
     "metadata": {},
     "output_type": "execute_result"
    }
   ],
   "source": [
    "#query6\n",
    "#S1=>(@P Person:* {Gender=\"female\" AND NodeFor=\"Customer\"});RETURN COUNT(*) AS Total_Female_Customers\n",
    "\n",
    "#df2.Gender.unique()\n",
    "df2[df2['Gender']=='female'].CustRefID.nunique()"
   ]
  },
  {
   "cell_type": "code",
   "execution_count": 32,
   "id": "c7de0ed0",
   "metadata": {},
   "outputs": [
    {
     "data": {
      "text/plain": [
       "20126"
      ]
     },
     "execution_count": 32,
     "metadata": {},
     "output_type": "execute_result"
    }
   ],
   "source": [
    "#query7\n",
    "#S1=>(@P Person:* {Gender=\"male\" AND NodeFor=\"Customer\"});RETURN COUNT(*) AS Total_male_Customers\n",
    "\n",
    "#df2.Gender.unique()\n",
    "df2[df2['Gender']=='male'].CustRefID.nunique()"
   ]
  },
  {
   "cell_type": "code",
   "execution_count": 39,
   "id": "f0f3ba46",
   "metadata": {},
   "outputs": [
    {
     "name": "stdout",
     "output_type": "stream",
     "text": [
      "10563\n",
      "9874\n",
      "20126\n",
      "10459\n"
     ]
    }
   ],
   "source": [
    "#query8\n",
    "#S1=>(@P Person:* );RETURN P.Gender AS Gender, COUNT(*) AS Total_Customers\n",
    "\n",
    "#df2.Gender.unique() --- Customer\n",
    "#df8.Gender.unique() --- Family\n",
    "print(df8[df8['Gender']=='Male'].MemberID.nunique())\n",
    "print(df2[df2['Gender']=='female'].CustRefID.nunique())\n",
    "print(df2[df2['Gender']=='male'].CustRefID.nunique())\n",
    "print(df8[df8['Gender']=='Female'].MemberID.nunique())"
   ]
  },
  {
   "cell_type": "code",
   "execution_count": 40,
   "id": "074c9229",
   "metadata": {},
   "outputs": [
    {
     "data": {
      "text/plain": [
       "CustRefID            100\n",
       "Education            100\n",
       "Profession           100\n",
       "BusinessCategory     100\n",
       "MaritalStatus        100\n",
       "Children             100\n",
       "SchoolGoingKids        0\n",
       "GeoTagging             0\n",
       "Dependent            100\n",
       "NoOfSeniorCitizen    100\n",
       "Anniversary            0\n",
       "Vehicle              100\n",
       "Income               100\n",
       "CreatedDate          100\n",
       "UpdatedDateTime      100\n",
       "dtype: int64"
      ]
     },
     "execution_count": 40,
     "metadata": {},
     "output_type": "execute_result"
    }
   ],
   "source": [
    "#query9\n",
    "#S1=>(@P Person:*)-[@h HAS_PROFILE]->(@C Profile:*)\n",
    "dfq.count()"
   ]
  },
  {
   "cell_type": "code",
   "execution_count": 41,
   "id": "b145b4df",
   "metadata": {},
   "outputs": [
    {
     "data": {
      "text/plain": [
       "100"
      ]
     },
     "execution_count": 41,
     "metadata": {},
     "output_type": "execute_result"
    }
   ],
   "source": [
    "#query10\n",
    "#S1=>(@P Person:*)-[@h HAS_PROFILE]->(@C Profile:*);RETURN UCOUNT(C.name) AS Total_Customer_Profiles\n",
    "dfq.CustRefID.nunique()"
   ]
  },
  {
   "cell_type": "code",
   "execution_count": 43,
   "id": "247f8d17",
   "metadata": {},
   "outputs": [
    {
     "data": {
      "text/html": [
       "<div>\n",
       "<style scoped>\n",
       "    .dataframe tbody tr th:only-of-type {\n",
       "        vertical-align: middle;\n",
       "    }\n",
       "\n",
       "    .dataframe tbody tr th {\n",
       "        vertical-align: top;\n",
       "    }\n",
       "\n",
       "    .dataframe thead th {\n",
       "        text-align: right;\n",
       "    }\n",
       "</style>\n",
       "<table border=\"1\" class=\"dataframe\">\n",
       "  <thead>\n",
       "    <tr style=\"text-align: right;\">\n",
       "      <th></th>\n",
       "      <th>CustRefID</th>\n",
       "      <th>Education</th>\n",
       "      <th>BusinessCategory</th>\n",
       "      <th>Dependent</th>\n",
       "      <th>MaritalStatus</th>\n",
       "      <th>Profession</th>\n",
       "    </tr>\n",
       "  </thead>\n",
       "  <tbody>\n",
       "    <tr>\n",
       "      <th>0</th>\n",
       "      <td>de5392eb-56db-448e-b785-2c5d807d2596</td>\n",
       "      <td>Below SSC</td>\n",
       "      <td>Proprietorship</td>\n",
       "      <td>1</td>\n",
       "      <td>Divorced</td>\n",
       "      <td>Home Maker</td>\n",
       "    </tr>\n",
       "    <tr>\n",
       "      <th>1</th>\n",
       "      <td>47f92f22-93aa-463f-addd-8fa94b13872a</td>\n",
       "      <td>Post Graduate</td>\n",
       "      <td>Partnership (Regd)</td>\n",
       "      <td>2</td>\n",
       "      <td>Divorced</td>\n",
       "      <td>Student</td>\n",
       "    </tr>\n",
       "    <tr>\n",
       "      <th>2</th>\n",
       "      <td>c3d99d96-9475-4340-b620-83ad4dbae3fe</td>\n",
       "      <td>Below SSC</td>\n",
       "      <td>Pvt Ltd Co.</td>\n",
       "      <td>1</td>\n",
       "      <td>Unmarried</td>\n",
       "      <td>Business</td>\n",
       "    </tr>\n",
       "    <tr>\n",
       "      <th>3</th>\n",
       "      <td>b8cb2909-b22b-4df0-bf7a-bf8df3e5d98f</td>\n",
       "      <td>Below SSC</td>\n",
       "      <td>Partnership (Regd)</td>\n",
       "      <td>2</td>\n",
       "      <td>Unmarried</td>\n",
       "      <td>Student</td>\n",
       "    </tr>\n",
       "    <tr>\n",
       "      <th>4</th>\n",
       "      <td>fd1758a0-ccee-44a4-af8a-9a3fdb9092a4</td>\n",
       "      <td>HSC</td>\n",
       "      <td>Pub Ltd Co.</td>\n",
       "      <td>0</td>\n",
       "      <td>Divorced</td>\n",
       "      <td>Student</td>\n",
       "    </tr>\n",
       "    <tr>\n",
       "      <th>...</th>\n",
       "      <td>...</td>\n",
       "      <td>...</td>\n",
       "      <td>...</td>\n",
       "      <td>...</td>\n",
       "      <td>...</td>\n",
       "      <td>...</td>\n",
       "    </tr>\n",
       "    <tr>\n",
       "      <th>95</th>\n",
       "      <td>a61be4ac-1022-4f6b-aa83-eaf0a5f1a1a1</td>\n",
       "      <td>CA/CS/CMA</td>\n",
       "      <td>HUF</td>\n",
       "      <td>0</td>\n",
       "      <td>Divorced</td>\n",
       "      <td>Home Maker</td>\n",
       "    </tr>\n",
       "    <tr>\n",
       "      <th>96</th>\n",
       "      <td>79205d97-069a-4108-a332-375a636b9991</td>\n",
       "      <td>Below SSC</td>\n",
       "      <td>Pub Ltd Co.</td>\n",
       "      <td>0</td>\n",
       "      <td>Married</td>\n",
       "      <td>Home Maker</td>\n",
       "    </tr>\n",
       "    <tr>\n",
       "      <th>97</th>\n",
       "      <td>c95c676f-0c37-4409-82cc-60fc71afaa26</td>\n",
       "      <td>MBBS/MD</td>\n",
       "      <td>HUF</td>\n",
       "      <td>1</td>\n",
       "      <td>Divorced</td>\n",
       "      <td>Business</td>\n",
       "    </tr>\n",
       "    <tr>\n",
       "      <th>98</th>\n",
       "      <td>249a0a64-e95b-46ee-afab-a9c6fa8a0b1f</td>\n",
       "      <td>LLB/LLM</td>\n",
       "      <td>Partnership (Regd)</td>\n",
       "      <td>2</td>\n",
       "      <td>Divorced</td>\n",
       "      <td>Business</td>\n",
       "    </tr>\n",
       "    <tr>\n",
       "      <th>99</th>\n",
       "      <td>1d321077-b021-4e12-a7a4-4b080b21142c</td>\n",
       "      <td>HSC</td>\n",
       "      <td>HUF</td>\n",
       "      <td>0</td>\n",
       "      <td>Unmarried</td>\n",
       "      <td>Salaried</td>\n",
       "    </tr>\n",
       "  </tbody>\n",
       "</table>\n",
       "<p>100 rows × 6 columns</p>\n",
       "</div>"
      ],
      "text/plain": [
       "                               CustRefID      Education    BusinessCategory  \\\n",
       "0   de5392eb-56db-448e-b785-2c5d807d2596      Below SSC      Proprietorship   \n",
       "1   47f92f22-93aa-463f-addd-8fa94b13872a  Post Graduate  Partnership (Regd)   \n",
       "2   c3d99d96-9475-4340-b620-83ad4dbae3fe      Below SSC         Pvt Ltd Co.   \n",
       "3   b8cb2909-b22b-4df0-bf7a-bf8df3e5d98f      Below SSC  Partnership (Regd)   \n",
       "4   fd1758a0-ccee-44a4-af8a-9a3fdb9092a4            HSC         Pub Ltd Co.   \n",
       "..                                   ...            ...                 ...   \n",
       "95  a61be4ac-1022-4f6b-aa83-eaf0a5f1a1a1      CA/CS/CMA                 HUF   \n",
       "96  79205d97-069a-4108-a332-375a636b9991      Below SSC         Pub Ltd Co.   \n",
       "97  c95c676f-0c37-4409-82cc-60fc71afaa26        MBBS/MD                 HUF   \n",
       "98  249a0a64-e95b-46ee-afab-a9c6fa8a0b1f        LLB/LLM  Partnership (Regd)   \n",
       "99  1d321077-b021-4e12-a7a4-4b080b21142c            HSC                 HUF   \n",
       "\n",
       "    Dependent MaritalStatus  Profession  \n",
       "0           1      Divorced  Home Maker  \n",
       "1           2      Divorced     Student  \n",
       "2           1     Unmarried    Business  \n",
       "3           2     Unmarried     Student  \n",
       "4           0      Divorced     Student  \n",
       "..        ...           ...         ...  \n",
       "95          0      Divorced  Home Maker  \n",
       "96          0       Married  Home Maker  \n",
       "97          1      Divorced    Business  \n",
       "98          2      Divorced    Business  \n",
       "99          0     Unmarried    Salaried  \n",
       "\n",
       "[100 rows x 6 columns]"
      ]
     },
     "execution_count": 43,
     "metadata": {},
     "output_type": "execute_result"
    }
   ],
   "source": [
    "#query11\n",
    "#S1=>(@P Person:*)-[@h HAS_PROFILE]->(@C Profile:*);RETURN P.name AS Customer, C.Education AS Education, C.Profession AS Profession, C.MaritalStatus, C.Dependent AS Dependent, C.income AS income, C.BusinessCategory AS Business_Category \n",
    "\n",
    "dfq[['CustRefID','Education','BusinessCategory','Dependent','MaritalStatus','Profession']]"
   ]
  },
  {
   "cell_type": "code",
   "execution_count": 47,
   "id": "f0d485c9",
   "metadata": {},
   "outputs": [
    {
     "data": {
      "text/plain": [
       "Married      36\n",
       "Divorced     33\n",
       "Unmarried    31\n",
       "Name: MaritalStatus, dtype: int64"
      ]
     },
     "execution_count": 47,
     "metadata": {},
     "output_type": "execute_result"
    }
   ],
   "source": [
    "#query12\n",
    "#S1=>(@P Person:*)-[@h HAS_PROFILE]->(@C Profile:*);RETURN C.MaritalStatus AS Marital_Status,COUNT(P.name) AS Customers\n",
    "\n",
    "dfq.MaritalStatus.value_counts()"
   ]
  },
  {
   "cell_type": "code",
   "execution_count": 54,
   "id": "fbb4ac9d",
   "metadata": {},
   "outputs": [
    {
     "data": {
      "text/html": [
       "<div>\n",
       "<style scoped>\n",
       "    .dataframe tbody tr th:only-of-type {\n",
       "        vertical-align: middle;\n",
       "    }\n",
       "\n",
       "    .dataframe tbody tr th {\n",
       "        vertical-align: top;\n",
       "    }\n",
       "\n",
       "    .dataframe thead th {\n",
       "        text-align: right;\n",
       "    }\n",
       "</style>\n",
       "<table border=\"1\" class=\"dataframe\">\n",
       "  <thead>\n",
       "    <tr style=\"text-align: right;\">\n",
       "      <th></th>\n",
       "      <th>Gender</th>\n",
       "      <th>CustRefID</th>\n",
       "    </tr>\n",
       "  </thead>\n",
       "  <tbody>\n",
       "    <tr>\n",
       "      <th>0</th>\n",
       "      <td>female</td>\n",
       "      <td>23</td>\n",
       "    </tr>\n",
       "    <tr>\n",
       "      <th>1</th>\n",
       "      <td>male</td>\n",
       "      <td>77</td>\n",
       "    </tr>\n",
       "  </tbody>\n",
       "</table>\n",
       "</div>"
      ],
      "text/plain": [
       "   Gender  CustRefID\n",
       "0  female         23\n",
       "1    male         77"
      ]
     },
     "execution_count": 54,
     "metadata": {},
     "output_type": "execute_result"
    }
   ],
   "source": [
    "#query13\n",
    "#S1=>(@P Person:*)-[@h HAS_PROFILE]->(@C Profile:*);RETURN P.Gender AS Gender, COUNT(P.name) AS Gender_Distribution\n",
    "dfmerge = dfq.merge(df2 , how='left', on='CustRefID')\n",
    "dfmerge.groupby('Gender' , as_index=False).count()[['Gender','CustRefID']]"
   ]
  },
  {
   "cell_type": "code",
   "execution_count": 64,
   "id": "9e390cf4",
   "metadata": {},
   "outputs": [
    {
     "data": {
      "text/html": [
       "<div>\n",
       "<style scoped>\n",
       "    .dataframe tbody tr th:only-of-type {\n",
       "        vertical-align: middle;\n",
       "    }\n",
       "\n",
       "    .dataframe tbody tr th {\n",
       "        vertical-align: top;\n",
       "    }\n",
       "\n",
       "    .dataframe thead th {\n",
       "        text-align: right;\n",
       "    }\n",
       "</style>\n",
       "<table border=\"1\" class=\"dataframe\">\n",
       "  <thead>\n",
       "    <tr style=\"text-align: right;\">\n",
       "      <th></th>\n",
       "      <th>DOB</th>\n",
       "      <th>Education</th>\n",
       "      <th>BusinessCategory</th>\n",
       "      <th>Dependent</th>\n",
       "      <th>Income</th>\n",
       "    </tr>\n",
       "  </thead>\n",
       "  <tbody>\n",
       "    <tr>\n",
       "      <th>32</th>\n",
       "      <td>1993-03-30</td>\n",
       "      <td>Graduate</td>\n",
       "      <td>Pub Ltd Co.</td>\n",
       "      <td>1</td>\n",
       "      <td>20K-30K</td>\n",
       "    </tr>\n",
       "    <tr>\n",
       "      <th>49</th>\n",
       "      <td>1998-07-20</td>\n",
       "      <td>LLB/LLM</td>\n",
       "      <td>Partnership (UnRegd)</td>\n",
       "      <td>2</td>\n",
       "      <td>10K-20K</td>\n",
       "    </tr>\n",
       "  </tbody>\n",
       "</table>\n",
       "</div>"
      ],
      "text/plain": [
       "           DOB Education      BusinessCategory  Dependent   Income\n",
       "32  1993-03-30  Graduate           Pub Ltd Co.          1  20K-30K\n",
       "49  1998-07-20   LLB/LLM  Partnership (UnRegd)          2  10K-20K"
      ]
     },
     "execution_count": 64,
     "metadata": {},
     "output_type": "execute_result"
    }
   ],
   "source": [
    "#query14\n",
    "#S1=>(@P1 Person:* {Gender=\"female\"})-[@h HAS_PROFILE]->(@C Profile:* {Profession=\"Business\" AND MaritalStatus=\"Married\"});RETURN PP1.name AS Customer , P1.DOB AS Customer_DOB, MATH_EXP(\"DATE((CURTIME-$Customer_DOB)/30806700000000)\") AS Customer_Age, C.Education AS Education, C.Profession AS Profession, C.Dependent AS Dependent, C.Income AS Income, C.BusinessCategory AS Business_Category\n",
    "\n",
    "dfmerge = dfq.merge(df2 , how='left', on='CustRefID')\n",
    "dfmerge = dfmerge[(dfmerge['Gender']==\"female\") & (dfmerge['Profession']==\"Business\") & (dfmerge['MaritalStatus']==\"Married\")]\n",
    "dfmerge[['DOB','Education','BusinessCategory','Dependent','Income']]"
   ]
  },
  {
   "cell_type": "code",
   "execution_count": 68,
   "id": "dcbb64c1",
   "metadata": {},
   "outputs": [
    {
     "data": {
      "text/html": [
       "<div>\n",
       "<style scoped>\n",
       "    .dataframe tbody tr th:only-of-type {\n",
       "        vertical-align: middle;\n",
       "    }\n",
       "\n",
       "    .dataframe tbody tr th {\n",
       "        vertical-align: top;\n",
       "    }\n",
       "\n",
       "    .dataframe thead th {\n",
       "        text-align: right;\n",
       "    }\n",
       "</style>\n",
       "<table border=\"1\" class=\"dataframe\">\n",
       "  <thead>\n",
       "    <tr style=\"text-align: right;\">\n",
       "      <th></th>\n",
       "      <th>Education</th>\n",
       "      <th>MaritalStatus</th>\n",
       "      <th>CustRefID</th>\n",
       "    </tr>\n",
       "  </thead>\n",
       "  <tbody>\n",
       "    <tr>\n",
       "      <th>0</th>\n",
       "      <td>Below SSC</td>\n",
       "      <td>Divorced</td>\n",
       "      <td>1</td>\n",
       "    </tr>\n",
       "    <tr>\n",
       "      <th>1</th>\n",
       "      <td>CA/CS/CMA</td>\n",
       "      <td>Unmarried</td>\n",
       "      <td>3</td>\n",
       "    </tr>\n",
       "    <tr>\n",
       "      <th>2</th>\n",
       "      <td>Doctorate</td>\n",
       "      <td>Unmarried</td>\n",
       "      <td>1</td>\n",
       "    </tr>\n",
       "    <tr>\n",
       "      <th>3</th>\n",
       "      <td>HSC</td>\n",
       "      <td>Divorced</td>\n",
       "      <td>1</td>\n",
       "    </tr>\n",
       "    <tr>\n",
       "      <th>4</th>\n",
       "      <td>LLB/LLM</td>\n",
       "      <td>Divorced</td>\n",
       "      <td>3</td>\n",
       "    </tr>\n",
       "    <tr>\n",
       "      <th>5</th>\n",
       "      <td>MBBS/MD</td>\n",
       "      <td>Unmarried</td>\n",
       "      <td>1</td>\n",
       "    </tr>\n",
       "    <tr>\n",
       "      <th>6</th>\n",
       "      <td>Post Graduate</td>\n",
       "      <td>Married</td>\n",
       "      <td>1</td>\n",
       "    </tr>\n",
       "    <tr>\n",
       "      <th>7</th>\n",
       "      <td>Post Graduate</td>\n",
       "      <td>Unmarried</td>\n",
       "      <td>1</td>\n",
       "    </tr>\n",
       "    <tr>\n",
       "      <th>8</th>\n",
       "      <td>SSC</td>\n",
       "      <td>Married</td>\n",
       "      <td>1</td>\n",
       "    </tr>\n",
       "  </tbody>\n",
       "</table>\n",
       "</div>"
      ],
      "text/plain": [
       "       Education MaritalStatus  CustRefID\n",
       "0      Below SSC      Divorced          1\n",
       "1      CA/CS/CMA     Unmarried          3\n",
       "2      Doctorate     Unmarried          1\n",
       "3            HSC      Divorced          1\n",
       "4        LLB/LLM      Divorced          3\n",
       "5        MBBS/MD     Unmarried          1\n",
       "6  Post Graduate       Married          1\n",
       "7  Post Graduate     Unmarried          1\n",
       "8            SSC       Married          1"
      ]
     },
     "execution_count": 68,
     "metadata": {},
     "output_type": "execute_result"
    }
   ],
   "source": [
    "#query15\n",
    "#S1=>(@P1 Person:* {Gender=\"male\"})-[@h HAS_PROFILE]->(@C Profile:* {Profession=\"Home Maker\" AND Dependent > 0});RETURN COUNT(P1.name) AS Customer , C.Education AS Education, C.MaritalStatus AS MaritalStatus\n",
    "\n",
    "dfmerge = dfq.merge(df2 , how='left', on='CustRefID')\n",
    "dfmerge = dfmerge[(dfmerge['Gender']==\"male\") & (dfmerge['Profession']==\"Home Maker\") & (dfmerge['Dependent']>0)]\n",
    "dfmerge = dfmerge[['Education','MaritalStatus','CustRefID']]\n",
    "dfmerge.groupby(['Education','MaritalStatus'] , as_index=False).count()"
   ]
  },
  {
   "cell_type": "code",
   "execution_count": 69,
   "id": "e02c1d4d",
   "metadata": {},
   "outputs": [
    {
     "data": {
      "text/html": [
       "<div>\n",
       "<style scoped>\n",
       "    .dataframe tbody tr th:only-of-type {\n",
       "        vertical-align: middle;\n",
       "    }\n",
       "\n",
       "    .dataframe tbody tr th {\n",
       "        vertical-align: top;\n",
       "    }\n",
       "\n",
       "    .dataframe thead th {\n",
       "        text-align: right;\n",
       "    }\n",
       "</style>\n",
       "<table border=\"1\" class=\"dataframe\">\n",
       "  <thead>\n",
       "    <tr style=\"text-align: right;\">\n",
       "      <th></th>\n",
       "      <th>Education</th>\n",
       "      <th>MaritalStatus</th>\n",
       "      <th>CustRefID</th>\n",
       "    </tr>\n",
       "  </thead>\n",
       "  <tbody>\n",
       "    <tr>\n",
       "      <th>0</th>\n",
       "      <td>CA/CS/CMA</td>\n",
       "      <td>Unmarried</td>\n",
       "      <td>3</td>\n",
       "    </tr>\n",
       "    <tr>\n",
       "      <th>1</th>\n",
       "      <td>Doctorate</td>\n",
       "      <td>Unmarried</td>\n",
       "      <td>1</td>\n",
       "    </tr>\n",
       "    <tr>\n",
       "      <th>2</th>\n",
       "      <td>MBBS/MD</td>\n",
       "      <td>Unmarried</td>\n",
       "      <td>1</td>\n",
       "    </tr>\n",
       "    <tr>\n",
       "      <th>3</th>\n",
       "      <td>Post Graduate</td>\n",
       "      <td>Unmarried</td>\n",
       "      <td>1</td>\n",
       "    </tr>\n",
       "  </tbody>\n",
       "</table>\n",
       "</div>"
      ],
      "text/plain": [
       "       Education MaritalStatus  CustRefID\n",
       "0      CA/CS/CMA     Unmarried          3\n",
       "1      Doctorate     Unmarried          1\n",
       "2        MBBS/MD     Unmarried          1\n",
       "3  Post Graduate     Unmarried          1"
      ]
     },
     "execution_count": 69,
     "metadata": {},
     "output_type": "execute_result"
    }
   ],
   "source": [
    "#query16\n",
    "#S1=>(@P1 Person:* {Gender=\"male\"})-[@h HAS_PROFILE]->(@C Profile:* {Profession=\"Home Maker\" AND Dependent > 0});RETURN COUNT(P1.name) AS Customer , C.Education AS Education, C.MaritalStatus AS MaritalStatus WHERE MaritalStatus = \"Unmarried\"\n",
    "\n",
    "dfmerge = dfq.merge(df2 , how='left', on='CustRefID')\n",
    "dfmerge = dfmerge[(dfmerge['Gender']==\"male\") & (dfmerge['Profession']==\"Home Maker\") & (dfmerge['Dependent']>0) & (dfmerge['MaritalStatus']==\"Unmarried\")]\n",
    "dfmerge = dfmerge[['Education','MaritalStatus','CustRefID']]\n",
    "dfmerge.groupby(['Education','MaritalStatus'] , as_index=False).count()"
   ]
  },
  {
   "cell_type": "code",
   "execution_count": null,
   "id": "aa07ff72",
   "metadata": {},
   "outputs": [],
   "source": [
    "#query17\n",
    "#S2=>[S1=>(@P1 Person:*)-[@h1 HAS_PROFILE]->(@C Profile:* )]-[@h2 HAS_ADDRESS]->(@A Address:*)-[@z WITH_PINCODE]->(@Z Pincode:*)-[@s IS_IN_STATE]->(@S State:*);RETURN S.name AS State, UCOUNT(P1.name) AS Customer\n"
   ]
  },
  {
   "cell_type": "code",
   "execution_count": null,
   "id": "19966908",
   "metadata": {},
   "outputs": [],
   "source": [
    "#query18\n",
    "#S2=>[S1=>(@P1 Person:*)-[@h1 HAS_PROFILE]->(@C Profile:* )]-[@h2 HAS_ADDRESS]->(@A Address:*)-[@z WITH_PINCODE]->(@Z Pincode:*)-[@s IS_IN_STATE]->(@S State:*);RETURN S.name AS State, UCOUNT(P1.name) AS Customer\n"
   ]
  },
  {
   "cell_type": "code",
   "execution_count": null,
   "id": "f6d073b8",
   "metadata": {},
   "outputs": [],
   "source": [
    "#query19\n",
    "#S2=>[S1=>(@P1 Person:*)-[@h1 HAS_PROFILE]->(@C Profile:* )]-[@h2 HAS_ADDRESS]->(@A Address:*)-[@z WITH_PINCODE]->(@Z Pincode:*)-[@s IS_IN_STATE]->(@S State:*);RETURN S.name AS State, UCOUNT(P1.name) AS Customer\n"
   ]
  },
  {
   "cell_type": "code",
   "execution_count": null,
   "id": "2d5f98cd",
   "metadata": {},
   "outputs": [],
   "source": [
    "#query20\n",
    "#S2=>[S1=>(@P1 Person:*)-[@h1 HAS_PROFILE]->(@C Profile:* )]-[@h2 HAS_ADDRESS]->(@A Address:*)-[@z WITH_PINCODE]->(@Z Pincode:*)-[@s IS_IN_STATE]->(@S State:*);RETURN S.name AS State, UCOUNT(P1.name) AS Customer\n"
   ]
  },
  {
   "cell_type": "code",
   "execution_count": null,
   "id": "39fbc041",
   "metadata": {},
   "outputs": [],
   "source": [
    "#query21\n",
    "#S2=>[S1=>(@P1 Person:*)-[@h1 HAS_PROFILE]->(@C Profile:* )]-[@h2 HAS_ADDRESS]->(@A Address:*)-[@z WITH_PINCODE]->(@Z Pincode:*)-[@s IS_IN_STATE]->(@S State:*);RETURN S.name AS State, UCOUNT(P1.name) AS Customer\n",
    "\n"
   ]
  },
  {
   "cell_type": "code",
   "execution_count": null,
   "id": "1486b12d",
   "metadata": {},
   "outputs": [],
   "source": [
    "#query22\n",
    "#S2=>[S1=>(@P1 Person:*)-[@h1 HAS_PROFILE]->(@C Profile:* )]-[@h2 HAS_ADDRESS]->(@A Address:*)-[@z WITH_PINCODE]->(@Z Pincode:*)-[@s IS_IN_STATE]->(@S State:*);RETURN S.name AS State, UCOUNT(P1.name) AS Customer\n",
    "\n"
   ]
  },
  {
   "cell_type": "code",
   "execution_count": null,
   "id": "64dee221",
   "metadata": {},
   "outputs": [],
   "source": [
    "#query23\n",
    "#S2=>[S1=>(@P1 Person:*)-[@h1 HAS_PROFILE]->(@C Profile:* )]-[@h2 HAS_ADDRESS]->(@A Address:*)-[@z WITH_PINCODE]->(@Z Pincode:*)-[@s IS_IN_STATE]->(@S State:*);RETURN S.name AS State, UCOUNT(P1.name) AS Customer\n",
    "\n"
   ]
  },
  {
   "cell_type": "code",
   "execution_count": null,
   "id": "2519d38f",
   "metadata": {},
   "outputs": [],
   "source": [
    "#query24\n",
    "#S2=>[S1=>(@P1 Person:*)-[@h1 HAS_PROFILE]->(@C Profile:* )]-[@h2 HAS_ADDRESS]->(@A Address:*)-[@z WITH_PINCODE]->(@Z Pincode:*)-[@s IS_IN_STATE]->(@S State:*);RETURN S.name AS State, UCOUNT(P1.name) AS Customer\n",
    "\n"
   ]
  },
  {
   "cell_type": "code",
   "execution_count": null,
   "id": "d88ab38d",
   "metadata": {},
   "outputs": [],
   "source": [
    "#query25\n",
    "#S2=>[S1=>(@P1 Person:*)-[@h1 HAS_PROFILE]->(@C Profile:* )]-[@h2 HAS_ADDRESS]->(@A Address:*)-[@z WITH_PINCODE]->(@Z Pincode:*)-[@s IS_IN_STATE]->(@S State:*);RETURN S.name AS State, UCOUNT(P1.name) AS Customer\n",
    "\n"
   ]
  },
  {
   "cell_type": "code",
   "execution_count": null,
   "id": "fbfd4f1f",
   "metadata": {},
   "outputs": [],
   "source": [
    "#query26\n",
    "#S2=>[S1=>(@P1 Person:*)-[@h1 HAS_PROFILE]->(@C Profile:* )]-[@h2 HAS_ADDRESS]->(@A Address:*)-[@z WITH_PINCODE]->(@Z Pincode:*)-[@s IS_IN_STATE]->(@S State:*);RETURN S.name AS State, UCOUNT(P1.name) AS Customer\n",
    "\n"
   ]
  },
  {
   "cell_type": "code",
   "execution_count": null,
   "id": "60887e18",
   "metadata": {},
   "outputs": [],
   "source": [
    "#query27\n",
    "#S2=>[S1=>(@P1 Person:*)-[@h1 HAS_PROFILE]->(@C Profile:* )]-[@h2 HAS_ADDRESS]->(@A Address:*)-[@z WITH_PINCODE]->(@Z Pincode:*)-[@s IS_IN_STATE]->(@S State:*);RETURN S.name AS State, UCOUNT(P1.name) AS Customer\n",
    "\n"
   ]
  },
  {
   "cell_type": "code",
   "execution_count": null,
   "id": "25e2e0df",
   "metadata": {},
   "outputs": [],
   "source": [
    "#query28\n",
    "#S2=>[S1=>(@P1 Person:*)-[@h1 HAS_PROFILE]->(@C Profile:* )]-[@h2 HAS_ADDRESS]->(@A Address:*)-[@z WITH_PINCODE]->(@Z Pincode:*)-[@s IS_IN_STATE]->(@S State:*);RETURN S.name AS State, UCOUNT(P1.name) AS Customer\n",
    "\n"
   ]
  },
  {
   "cell_type": "code",
   "execution_count": null,
   "id": "c9faff72",
   "metadata": {},
   "outputs": [],
   "source": [
    "#query29\n",
    "#S2=>[S1=>(@P1 Person:*)-[@h1 HAS_PROFILE]->(@C Profile:* )]-[@h2 HAS_ADDRESS]->(@A Address:*)-[@z WITH_PINCODE]->(@Z Pincode:*)-[@s IS_IN_STATE]->(@S State:*);RETURN S.name AS State, UCOUNT(P1.name) AS Customer\n",
    "\n"
   ]
  },
  {
   "cell_type": "code",
   "execution_count": 70,
   "id": "c09cbc8b",
   "metadata": {},
   "outputs": [],
   "source": [
    "#query30\n",
    "#S2=>[S1=>(@P1 Person:*)-[@h1 HAS_PROFILE]->(@C Profile:* )]-[@h2 HAS_ADDRESS]->(@A Address:*)-[@z WITH_PINCODE]->(@Z Pincode:*)-[@s IS_IN_STATE]->(@S State:*);RETURN S.name AS State, UCOUNT(P1.name) AS Customer\n",
    "\n"
   ]
  }
 ],
 "metadata": {
  "kernelspec": {
   "display_name": "Python 3",
   "language": "python",
   "name": "python3"
  },
  "language_info": {
   "codemirror_mode": {
    "name": "ipython",
    "version": 3
   },
   "file_extension": ".py",
   "mimetype": "text/x-python",
   "name": "python",
   "nbconvert_exporter": "python",
   "pygments_lexer": "ipython3",
   "version": "3.7.4"
  },
  "toc": {
   "base_numbering": 1,
   "nav_menu": {},
   "number_sections": true,
   "sideBar": true,
   "skip_h1_title": false,
   "title_cell": "Table of Contents",
   "title_sidebar": "Contents",
   "toc_cell": false,
   "toc_position": {},
   "toc_section_display": true,
   "toc_window_display": false
  }
 },
 "nbformat": 4,
 "nbformat_minor": 5
}
